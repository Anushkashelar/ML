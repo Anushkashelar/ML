{
 "cells": [
  {
   "cell_type": "code",
   "execution_count": null,
   "metadata": {},
   "outputs": [],
   "source": [
    "def print_solution(board):\n",
    "    for row in board:\n",
    "        print(\"\".join(str(x)for x in row))\n",
    "    print()"
   ]
  },
  {
   "cell_type": "code",
   "execution_count": null,
   "metadata": {},
   "outputs": [],
   "source": [
    "def is_safe(board,row,col,n):\n",
    "    for i in range(col):\n",
    "        if board[row][i] == 1:\n",
    "            return False\n",
    "    for i, j in zip(range(row,-1,-1), range(col,-1,-1)):\n",
    "        if board[i][j] == 1:\n",
    "            return False\n",
    "    \n",
    "    for i,j in zip(range(row,n), range(col,-1,-1)):\n",
    "        if board[i][j] == 1:\n",
    "            return False\n",
    "    \n",
    "    return True"
   ]
  },
  {
   "cell_type": "code",
   "execution_count": null,
   "metadata": {},
   "outputs": [],
   "source": [
    "def solve_n_queen(board,col,n):\n",
    "    if col >= n:\n",
    "        return True\n",
    "    for i in range(n):\n",
    "        if board[i][col] == 0 and is_safe(board,i,col,n):\n",
    "            board[i][col] = 1\n",
    "        if solve_n_queen(board,col+1,n):\n",
    "            return True\n",
    "        board[i][col] = 0\n",
    "    return False\n",
    "            \n",
    "            \n",
    "            "
   ]
  },
  {
   "cell_type": "code",
   "execution_count": null,
   "metadata": {},
   "outputs": [],
   "source": [
    "def solution_for_placing_first_queen(n,row,col):\n",
    "    board = [[0 for _ in range(n)]for _ in range(n)]\n",
    "    board[row][col] = 1\n",
    "    print(f\"first queen place at {row}, {col}\")\n",
    "    print_solution(board)\n",
    "    \n",
    "    if solve_n_queen(board, 0 if col > 0 else 1, n):\n",
    "        print(\"final solution:\")\n",
    "        print_solution(board)\n",
    "        \n",
    "    else:\n",
    "        print(\"solution soes not exit\")\n",
    "    "
   ]
  }
 ],
 "metadata": {
  "language_info": {
   "name": "python"
  },
  "orig_nbformat": 4
 },
 "nbformat": 4,
 "nbformat_minor": 2
}
